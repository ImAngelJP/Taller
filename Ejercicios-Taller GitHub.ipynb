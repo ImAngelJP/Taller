{
    "cells": [
        {
            "metadata": {},
            "cell_type": "code",
            "source": "pip install statistics",
            "execution_count": 8,
            "outputs": [
                {
                    "output_type": "stream",
                    "text": "Collecting statistics\n  Downloading statistics-1.0.3.5.tar.gz (8.3 kB)\n  Preparing metadata (setup.py) ... \u001b[?25ldone\n\u001b[?25hCollecting docutils>=0.3 (from statistics)\n  Downloading docutils-0.20.1-py3-none-any.whl.metadata (2.8 kB)\nDownloading docutils-0.20.1-py3-none-any.whl (572 kB)\n\u001b[2K   \u001b[90m\u2501\u2501\u2501\u2501\u2501\u2501\u2501\u2501\u2501\u2501\u2501\u2501\u2501\u2501\u2501\u2501\u2501\u2501\u2501\u2501\u2501\u2501\u2501\u2501\u2501\u2501\u2501\u2501\u2501\u2501\u2501\u2501\u2501\u2501\u2501\u2501\u2501\u2501\u2501\u2501\u001b[0m \u001b[32m572.7/572.7 kB\u001b[0m \u001b[31m36.9 MB/s\u001b[0m eta \u001b[36m0:00:00\u001b[0m\n\u001b[?25hBuilding wheels for collected packages: statistics\n  Building wheel for statistics (setup.py) ... \u001b[?25ldone\n\u001b[?25h  Created wheel for statistics: filename=statistics-1.0.3.5-py3-none-any.whl size=7438 sha256=758d85020cd47bb8b288cc50a502b2147c6e2e176fda5266f285b77877f3e9e6\n  Stored in directory: /tmp/wsuser/.cache/pip/wheels/59/bd/aa/41ad56fbb723d36e457b5be74feb992cdac2855a6999ba34a1\nSuccessfully built statistics\nInstalling collected packages: docutils, statistics\nSuccessfully installed docutils-0.20.1 statistics-1.0.3.5\nNote: you may need to restart the kernel to use updated packages.\n",
                    "name": "stdout"
                }
            ]
        },
        {
            "metadata": {},
            "cell_type": "code",
            "source": "# Calcular la media y la desviaci\u00f3n est\u00e1ndar de un conjunto de datos.\nimport statistics\n\ndatos = [10, 50, 15, 20, 25, 30, 12, 56]\nprint(f\"Conjunto de Datos: {datos}\")\n\n# Media\nmedia = statistics.mean(datos)\nprint(f\"Media: {media}\")\n\n# Desviaci\u00f3n est\u00e1ndar\ndesviacion_estandar = statistics.stdev(datos)\nprint(f\"Desviaci\u00f3n est\u00e1ndar: {desviacion_estandar}\")",
            "execution_count": 15,
            "outputs": [
                {
                    "output_type": "stream",
                    "text": "Conjunto de Datos: [10, 50, 15, 20, 25, 30, 12, 56]\nMedia: 27.25\nDesviaci\u00f3n est\u00e1ndar: 17.277152543170995\n",
                    "name": "stdout"
                }
            ]
        },
        {
            "metadata": {},
            "cell_type": "code",
            "source": "",
            "execution_count": null,
            "outputs": []
        }
    ],
    "metadata": {
        "kernelspec": {
            "name": "python3",
            "display_name": "Python 3.10",
            "language": "python"
        },
        "language_info": {
            "name": "python",
            "version": "3.10.13",
            "mimetype": "text/x-python",
            "codemirror_mode": {
                "name": "ipython",
                "version": 3
            },
            "pygments_lexer": "ipython3",
            "nbconvert_exporter": "python",
            "file_extension": ".py"
        }
    },
    "nbformat": 4,
    "nbformat_minor": 1
}