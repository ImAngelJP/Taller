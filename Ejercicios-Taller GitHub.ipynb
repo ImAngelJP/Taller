{
    "cells": [
        {
            "metadata": {},
            "cell_type": "code",
            "source": "#Desarrollar un programa que muestre la tabla de multiplicar del 5 (del 5 al 50)\n\ndef tabla_multiplicar(numero):\n    for i in range (1, 11):\n        resultado = i * numero\n        print(f\"{numero} * {i} = {resultado}\")",
            "execution_count": 6,
            "outputs": []
        },
        {
            "metadata": {},
            "cell_type": "code",
            "source": "tabla_multiplicar(5)",
            "execution_count": 7,
            "outputs": [
                {
                    "output_type": "stream",
                    "text": "5 * 1 = 5\n5 * 2 = 10\n5 * 3 = 15\n5 * 4 = 20\n5 * 5 = 25\n5 * 6 = 30\n5 * 7 = 35\n5 * 8 = 40\n5 * 9 = 45\n5 * 10 = 50\n",
                    "name": "stdout"
                }
            ]
        }
    ],
    "metadata": {
        "kernelspec": {
            "name": "python3",
            "display_name": "Python 3.10",
            "language": "python"
        },
        "language_info": {
            "name": "python",
            "version": "3.10.13",
            "mimetype": "text/x-python",
            "codemirror_mode": {
                "name": "ipython",
                "version": 3
            },
            "pygments_lexer": "ipython3",
            "nbconvert_exporter": "python",
            "file_extension": ".py"
        }
    },
    "nbformat": 4,
    "nbformat_minor": 1
}